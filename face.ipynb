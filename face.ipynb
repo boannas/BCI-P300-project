{
 "cells": [
  {
   "cell_type": "code",
   "execution_count": null,
   "id": "16b7fb7d",
   "metadata": {},
   "outputs": [],
   "source": [
    "# Random image \n",
    "import os\n",
    "import time\n",
    "import urllib.request\n",
    "\n",
    "url = \"https://thispersondoesnotexist.com/\"\n",
    "output_folder = \"nonexistent_people\"\n",
    "os.makedirs(output_folder, exist_ok=True)\n",
    "\n",
    "for i in range(300):\n",
    "    try:\n",
    "        filename = os.path.join(output_folder, f\"face_{i}.jpg\")\n",
    "        urllib.request.urlretrieve(url, filename)\n",
    "        time.sleep(1.5)  \n",
    "    except Exception as e:\n",
    "        print(f\"Failed at {i}: {e}\")\n"
   ]
  },
  {
   "cell_type": "code",
   "execution_count": 16,
   "id": "8f5515e6",
   "metadata": {},
   "outputs": [
    {
     "name": "stdout",
     "output_type": "stream",
     "text": [
      "Saved blocks/block1.csv\n",
      "Saved blocks/block2.csv\n",
      "Saved blocks/block3.csv\n",
      "Saved blocks/block4.csv\n",
      "Saved blocks/block5.csv\n"
     ]
    }
   ],
   "source": [
    "import random\n",
    "import csv\n",
    "import os\n",
    "\n",
    "# Generate file name lists\n",
    "unknown_faces = ['faces/unknown/unknown_%d.jpg' % i for i in range(1, 301)]\n",
    "public_faces = ['faces/known_public/known_%d.jpg' % i for i in range(1, 51)]\n",
    "personal_faces = ['faces/known_personal/personal_%d.jpg' % i for i in range(1, 11)]\n",
    "\n",
    "# Shuffle all\n",
    "random.shuffle(unknown_faces)\n",
    "random.shuffle(public_faces)\n",
    "random.shuffle(personal_faces)\n",
    "\n",
    "# Create output folder\n",
    "os.makedirs(\"blocks\", exist_ok=True)\n",
    "\n",
    "# Create 5 blocks and save to 5 CSVs\n",
    "for i in range(5):\n",
    "    block_unknown = unknown_faces[i*48:(i+1)*48]\n",
    "    # block_public = public_faces[i*10:(i+1)*10]\n",
    "    # block_personal = personal_faces[i*2:(i+1)*2]\n",
    "\n",
    "    # block = block_unknown + block_public + block_personal\n",
    "    block = block_unknown\n",
    "\n",
    "    random.shuffle(block)\n",
    "\n",
    "    block_data = []\n",
    "    for trial_num, img in enumerate(block):\n",
    "        block_data.append({\n",
    "            'block': i + 1,\n",
    "            'trial': trial_num + 1,\n",
    "            'image': img,\n",
    "            'type': (\n",
    "                'unknown' if 'unknown' in img else\n",
    "                'public' if 'known_public' in img else\n",
    "                'personal'\n",
    "            )\n",
    "        })\n",
    "\n",
    "    filename = f'blocks/block{i+1}.csv'\n",
    "    with open(filename, 'w', newline='') as f:\n",
    "        writer = csv.DictWriter(f, fieldnames=['block', 'trial', 'image', 'type'])\n",
    "        writer.writeheader()\n",
    "        writer.writerows(block_data)\n",
    "        print(f\"Saved {filename}\")\n"
   ]
  },
  {
   "cell_type": "code",
   "execution_count": 14,
   "id": "7da8c6d1",
   "metadata": {},
   "outputs": [
    {
     "name": "stdout",
     "output_type": "stream",
     "text": [
      "Image counts across all blocks:\n",
      " - unknown : 240\n",
      " - public  : 50\n",
      " - personal: 10\n",
      "No duplicates found.\n"
     ]
    }
   ],
   "source": [
    "# Check shuffle\n",
    "import csv\n",
    "import os\n",
    "\n",
    "# Folder containing your block files\n",
    "folder = 'blocks'\n",
    "\n",
    "# Initialize counters\n",
    "unk = 0\n",
    "kno = 0\n",
    "per = 0\n",
    "\n",
    "# Track duplicates\n",
    "all_images = []\n",
    "\n",
    "# Loop through all 5 block files\n",
    "for i in range(1, 6):\n",
    "    filepath = os.path.join(folder, f'block{i}.csv')\n",
    "    with open(filepath, 'r') as csvfile:\n",
    "        reader = csv.DictReader(csvfile)\n",
    "        for row in reader:\n",
    "            img = row['image']\n",
    "            all_images.append(img)\n",
    "\n",
    "            # Count by type using 'in' for full path match\n",
    "            if 'unknown' in img:\n",
    "                unk += 1\n",
    "            elif 'known_public' in img:\n",
    "                kno += 1\n",
    "            elif 'known_personal' in img:\n",
    "                per += 1\n",
    "\n",
    "# Check for duplicates\n",
    "duplicates = set([x for x in all_images if all_images.count(x) > 1])\n",
    "\n",
    "print(\"Image counts across all blocks:\")\n",
    "print(\" - unknown :\", unk)\n",
    "print(\" - public  :\", kno)\n",
    "print(\" - personal:\", per)\n",
    "\n",
    "if len(duplicates) == 0:\n",
    "    print(\"No duplicates found.\")\n",
    "else:\n",
    "    print(\"Duplicates found:\")\n",
    "    for d in duplicates:\n",
    "        print(\"   -\", d)\n"
   ]
  },
  {
   "cell_type": "code",
   "execution_count": null,
   "id": "a221588f",
   "metadata": {},
   "outputs": [],
   "source": [
    "# Rename image\n",
    "import os\n",
    "\n",
    "folder = 'faces/unknown'\n",
    "\n",
    "for filename in os.listdir(folder):\n",
    "    # print(filename)\n",
    "    if filename.startswith('face_') and filename.endswith('.jpg'):\n",
    "        old_path = os.path.join(folder, filename)\n",
    "        new_filename = filename.replace('face_', 'unknown_')\n",
    "        new_path = os.path.join(folder, new_filename)\n",
    "        os.rename(old_path, new_path)\n",
    "        print(f\"Renamed: {filename} {new_filename}\")\n"
   ]
  },
  {
   "cell_type": "code",
   "execution_count": 1,
   "id": "1cb752ab",
   "metadata": {},
   "outputs": [
    {
     "name": "stdout",
     "output_type": "stream",
     "text": [
      "0.7259436635001864\n",
      "0.5832809189114454\n",
      "0.9642861354354533\n",
      "0.7347503874880736\n",
      "0.8311946485414159\n",
      "0.9602070101838508\n",
      "0.551821073525272\n",
      "0.9778944191672289\n",
      "0.7355726637948117\n",
      "0.9239887638446639\n"
     ]
    }
   ],
   "source": [
    "import random \n",
    "\n",
    "for i in range(10):\n",
    "    print(random.uniform(0.5,1))"
   ]
  },
  {
   "cell_type": "code",
   "execution_count": null,
   "id": "eb3cb02b",
   "metadata": {},
   "outputs": [
    {
     "name": "stdout",
     "output_type": "stream",
     "text": [
      "🔍 Looking for an LSL marker stream...\n",
      "✅ Connected. Waiting for markers...\n",
      "🕒 109464.528 — Marker: 10\n",
      "🕒 109468.387 — Marker: 10\n",
      "🕒 109472.222 — Marker: 10\n",
      "🕒 109475.841 — Marker: 10\n",
      "🕒 109479.681 — Marker: 10\n"
     ]
    }
   ],
   "source": [
    "from pylsl import StreamInlet, resolve_byprop\n",
    "\n",
    "print(\"🔍 Looking for an LSL marker stream...\")\n",
    "\n",
    "# 1. Resolve a stream of type 'Markers'\n",
    "streams = resolve_byprop('type', 'Markers')\n",
    "\n",
    "# 2. Create a StreamInlet to read from the stream\n",
    "inlet = StreamInlet(streams[0])\n",
    "\n",
    "print(\"✅ Connected. Waiting for markers...\")\n",
    "\n",
    "# 3. Continuously read and print incoming markers\n",
    "while True:\n",
    "    sample, timestamp = inlet.pull_sample()\n",
    "    print(f\"🕒 {timestamp:.3f} — Marker: {sample[0]}\")\n"
   ]
  },
  {
   "cell_type": "code",
   "execution_count": null,
   "id": "b0c0ec82",
   "metadata": {},
   "outputs": [],
   "source": []
  }
 ],
 "metadata": {
  "kernelspec": {
   "display_name": "env",
   "language": "python",
   "name": "python3"
  },
  "language_info": {
   "codemirror_mode": {
    "name": "ipython",
    "version": 3
   },
   "file_extension": ".py",
   "mimetype": "text/x-python",
   "name": "python",
   "nbconvert_exporter": "python",
   "pygments_lexer": "ipython3",
   "version": "3.10.11"
  }
 },
 "nbformat": 4,
 "nbformat_minor": 5
}
