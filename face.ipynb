{
 "cells": [
  {
   "cell_type": "code",
   "execution_count": null,
   "id": "16b7fb7d",
   "metadata": {},
   "outputs": [],
   "source": [
    "# # generate random image\n",
    "# import os\n",
    "# import time\n",
    "# import urllib.request\n",
    "\n",
    "# url = \"https://thispersondoesnotexist.com/\"\n",
    "# output_folder = \"nonexistent_people\"\n",
    "# os.makedirs(output_folder, exist_ok=True)\n",
    "\n",
    "# for i in range(300):\n",
    "#     try:\n",
    "#         filename = os.path.join(output_folder, f\"face_{i}.jpg\")\n",
    "#         urllib.request.urlretrieve(url, filename)\n",
    "#         time.sleep(1.5)  \n",
    "#     except Exception as e:\n",
    "#         print(f\"Failed at {i}: {e}\")\n"
   ]
  },
  {
   "cell_type": "code",
   "execution_count": null,
   "id": "f0a1b788",
   "metadata": {},
   "outputs": [
    {
     "data": {
      "text/plain": [
       "48"
      ]
     },
     "execution_count": 3,
     "metadata": {},
     "output_type": "execute_result"
    }
   ],
   "source": [
    "# initialize var\n",
    "block_num = 5\n",
    "trial_per_block = 60\n",
    "target_percent = 20\n",
    "unknown_face_ind = 300\n",
    "known_face_ind = 62\n",
    "\n",
    "target_num = int((target_percent / 100) * trial_per_block)\n",
    "non_target_num = trial_per_block - target_num\n"
   ]
  },
  {
   "cell_type": "code",
   "execution_count": null,
   "id": "8f5515e6",
   "metadata": {},
   "outputs": [
    {
     "name": "stdout",
     "output_type": "stream",
     "text": [
      "Saved blocks/block1.csv\n",
      "Saved blocks/block2.csv\n",
      "Saved blocks/block3.csv\n",
      "Saved blocks/block4.csv\n",
      "Saved blocks/block5.csv\n"
     ]
    }
   ],
   "source": [
    "## Generate block with random trials\n",
    "import random\n",
    "import csv\n",
    "import os\n",
    "\n",
    "# Generate file name lists\n",
    "unknown_faces = ['faces/unknown/unknown_%d.jpg' % i for i in range(0, unknown_face_ind)]\n",
    "public_faces = ['faces/known/known_%d.jpg' % i for i in range(0, known_face_ind)]\n",
    "# personal_faces = ['faces/known_personal/personal_%d.jpg' % i for i in range(1, 11)]\n",
    "\n",
    "# Shuffle all\n",
    "random.shuffle(unknown_faces)\n",
    "random.shuffle(public_faces)\n",
    "# random.shuffle(personal_faces)\n",
    "\n",
    "# Create output folder\n",
    "os.makedirs(\"blocks\", exist_ok=True)\n",
    "\n",
    "\n",
    "for i in range(block_num):\n",
    "    block_unknown = unknown_faces[i*non_target_num:(i+1)*non_target_num48]\n",
    "    block_public = public_faces[i*target_num:(i+1)*target_num]\n",
    "    # block_personal = personal_faces[i*2:(i+1)*2]\n",
    "\n",
    "    block = block_unknown + block_public \n",
    "    # block = block_unknown\n",
    "\n",
    "    random.shuffle(block)\n",
    "\n",
    "    block_data = []\n",
    "    for trial_num, img in enumerate(block):\n",
    "        block_data.append({\n",
    "            'block': i + 1,\n",
    "            'trial': trial_num + 1,\n",
    "            'image': img,\n",
    "            'type': (\n",
    "                'unknown' if 'unknown' in img else\n",
    "                'known' if 'known' in img else\n",
    "                'personal'\n",
    "            )\n",
    "        })\n",
    "\n",
    "    filename = f'blocks/block{i+1}.csv'\n",
    "    with open(filename, 'w', newline='') as f:\n",
    "        writer = csv.DictWriter(f, fieldnames=['block', 'trial', 'image', 'type'])\n",
    "        writer.writeheader()\n",
    "        writer.writerows(block_data)\n",
    "        print(f\"Saved {filename}\")\n"
   ]
  },
  {
   "cell_type": "code",
   "execution_count": null,
   "id": "7da8c6d1",
   "metadata": {},
   "outputs": [
    {
     "name": "stdout",
     "output_type": "stream",
     "text": [
      "Image counts across all blocks:\n",
      " - unknown : 240\n",
      " - public  : 60\n",
      "No duplicates found.\n"
     ]
    }
   ],
   "source": [
    "# Check shuffle\n",
    "import csv\n",
    "import os\n",
    "\n",
    "# Folder containing your block files\n",
    "folder = 'blocks'\n",
    "\n",
    "# Initialize counters\n",
    "unk = 0\n",
    "kno = 0\n",
    "per = 0\n",
    "\n",
    "# Track duplicates\n",
    "all_images = []\n",
    "\n",
    "# Loop through all 5 block files\n",
    "for i in range(1, block_num):\n",
    "    filepath = os.path.join(folder, f'block{i}.csv')\n",
    "    with open(filepath, 'r') as csvfile:\n",
    "        reader = csv.DictReader(csvfile)\n",
    "        for row in reader:\n",
    "            img = row['image']\n",
    "            all_images.append(img)\n",
    "\n",
    "            # Count by type using 'in' for full path match\n",
    "            if 'unknown' in img:\n",
    "                unk += 1\n",
    "            elif 'known' in img:\n",
    "                kno += 1\n",
    "            elif 'known_personal' in img:\n",
    "                per += 1\n",
    "\n",
    "# Check for duplicates\n",
    "duplicates = set([x for x in all_images if all_images.count(x) > 1])\n",
    "\n",
    "print(\"Image counts across all blocks:\")\n",
    "print(\" - unknown :\", unk)\n",
    "print(\" - public  :\", kno)\n",
    "# print(\" - personal:\", per)\n",
    "\n",
    "if len(duplicates) == 0:\n",
    "    print(\"No duplicates found.\")\n",
    "else:\n",
    "    print(\"Duplicates found:\")\n",
    "    for d in duplicates:\n",
    "        print(\"   -\", d)\n"
   ]
  },
  {
   "cell_type": "code",
   "execution_count": 4,
   "id": "a221588f",
   "metadata": {},
   "outputs": [
    {
     "name": "stdout",
     "output_type": "stream",
     "text": [
      "Renamed: 123034439_164364448698162_2428102579207756693_n.jpg known_40.png\n",
      "Renamed: 279935833_3289950661290560_6245770093292758885_n.jpg known_41.png\n",
      "Renamed: 293171349_1612043665875384_8916524805893423234_n.jpg known_42.png\n",
      "Renamed: 435756760_7789392751113008_3479587504933721097_n.jpg known_43.png\n",
      "Renamed: 480194708_2081993715576689_5044255865954065339_n.jpg known_44.png\n",
      "Renamed: 487299574_1173996481184666_5986038347937806572_n.jpg known_45.png\n",
      "Renamed: 557000011587504.jpg known_46.png\n",
      "Renamed: maxresdefault.jpg known_47.png\n",
      "Renamed: _ABC4657.jpg known_48.png\n",
      "Renamed: _ABC4661.jpg known_49.png\n",
      "Renamed: _ABC4666.jpg known_50.png\n",
      "Renamed: _ABC4668.jpg known_51.png\n",
      "Renamed: _ABC4680.jpg known_52.png\n",
      "Renamed: _ABC4682.jpg known_53.png\n",
      "Renamed: _ABC4685.jpg known_54.png\n",
      "Renamed: _ABC4696.jpg known_55.png\n",
      "Renamed: _ABC4697.jpg known_56.png\n",
      "Renamed: _ABC4715.jpg known_57.png\n",
      "Renamed: _ABC4716.jpg known_58.png\n",
      "Renamed: _ABC4723.jpg known_59.png\n",
      "Renamed: _ABC4730.jpg known_60.png\n",
      "Renamed: อ.บวรศักดิ์-scaled.jpg known_61.png\n"
     ]
    }
   ],
   "source": [
    "# Rename image\n",
    "import os\n",
    "\n",
    "folder = 'faces/resized'\n",
    "\n",
    "i = 40\n",
    "for filename in os.listdir(folder):\n",
    "    if filename.endswith('.jpg') or filename.endswith('.png') or filename.endswith('.jpeg'):\n",
    "        old_path = os.path.join(folder, filename)\n",
    "        new_filename = filename.replace(filename, f'known_{i}.png')\n",
    "        new_path = os.path.join(folder, new_filename)\n",
    "        os.rename(old_path, new_path)\n",
    "        print(f\"Renamed: {filename} {new_filename}\")\n",
    "        i += 1\n"
   ]
  },
  {
   "cell_type": "code",
   "execution_count": 3,
   "id": "b0c0ec82",
   "metadata": {},
   "outputs": [
    {
     "name": "stdout",
     "output_type": "stream",
     "text": [
      "Resized and saved: ./faces/resized\\123034439_164364448698162_2428102579207756693_n.jpg\n",
      "Resized and saved: ./faces/resized\\435756760_7789392751113008_3479587504933721097_n.jpg\n",
      "Resized and saved: ./faces/resized\\487299574_1173996481184666_5986038347937806572_n.jpg\n",
      "Resized and saved: ./faces/resized\\557000011587504.jpg\n",
      "Resized and saved: ./faces/resized\\maxresdefault.jpg\n",
      "Resized and saved: ./faces/resized\\อ.บวรศักดิ์-scaled.jpg\n"
     ]
    }
   ],
   "source": [
    "from PIL import Image\n",
    "import os\n",
    "\n",
    "# Define input and output directories\n",
    "input_folder = \"./faces/Teacher\"\n",
    "output_folder = \"./faces/resized\"\n",
    "os.makedirs(output_folder, exist_ok=True)\n",
    "\n",
    "# Resize configuration\n",
    "target_size = (1024, 1024)\n",
    "\n",
    "# Process each file in the input folder\n",
    "for filename in os.listdir(input_folder):\n",
    "    input_path = os.path.join(input_folder, filename)\n",
    "    \n",
    "    # Filter image files only\n",
    "    if filename.lower().endswith(('.png', '.jpg', '.jpeg', '.bmp', '.gif', '.tiff')):\n",
    "        try:\n",
    "            with Image.open(input_path) as img:\n",
    "                # Resize and save\n",
    "                resized_img = img.resize(target_size, Image.Resampling.LANCZOS)\n",
    "                output_path = os.path.join(output_folder, filename)\n",
    "                resized_img.save(output_path)\n",
    "                print(f\"Resized and saved: {output_path}\")\n",
    "        except Exception as e:\n",
    "            print(f\"Failed to process {filename}: {e}\")\n"
   ]
  },
  {
   "cell_type": "code",
   "execution_count": null,
   "id": "79a14694",
   "metadata": {},
   "outputs": [],
   "source": []
  }
 ],
 "metadata": {
  "kernelspec": {
   "display_name": "env",
   "language": "python",
   "name": "python3"
  },
  "language_info": {
   "codemirror_mode": {
    "name": "ipython",
    "version": 3
   },
   "file_extension": ".py",
   "mimetype": "text/x-python",
   "name": "python",
   "nbconvert_exporter": "python",
   "pygments_lexer": "ipython3",
   "version": "3.10.11"
  }
 },
 "nbformat": 4,
 "nbformat_minor": 5
}
